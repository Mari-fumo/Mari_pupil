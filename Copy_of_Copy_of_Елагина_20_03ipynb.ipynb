{
  "nbformat": 4,
  "nbformat_minor": 0,
  "metadata": {
    "colab": {
      "name": "Copy of Copy of Елагина 20.03ipynb",
      "provenance": [],
      "authorship_tag": "ABX9TyOAIAMuzh9TAQ8oFa9pDJqo",
      "include_colab_link": true
    },
    "kernelspec": {
      "name": "python3",
      "display_name": "Python 3"
    }
  },
  "cells": [
    {
      "cell_type": "markdown",
      "metadata": {
        "id": "view-in-github",
        "colab_type": "text"
      },
      "source": [
        "<a href=\"https://colab.research.google.com/github/Mari-fumo/Mari_pupil/blob/master/Copy_of_Copy_of_%D0%95%D0%BB%D0%B0%D0%B3%D0%B8%D0%BD%D0%B0_20_03ipynb.ipynb\" target=\"_parent\"><img src=\"https://colab.research.google.com/assets/colab-badge.svg\" alt=\"Open In Colab\"/></a>"
      ]
    },
    {
      "cell_type": "code",
      "metadata": {
        "id": "iWvvQNzx67MC",
        "colab_type": "code",
        "outputId": "4a21a974-7f0d-4b4d-c190-3b4869d51335",
        "colab": {
          "base_uri": "https://localhost:8080/",
          "height": 34
        }
      },
      "source": [
        "!https://drive.google.com/open?id=1JnYdB6Tn2GbHCDKWyd_7eipiEKnvCiYT"
      ],
      "execution_count": 0,
      "outputs": [
        {
          "output_type": "stream",
          "text": [
            "/bin/bash: https://drive.google.com/open?id=1JnYdB6Tn2GbHCDKWyd_7eipiEKnvCiYT: No such file or directory\n"
          ],
          "name": "stdout"
        }
      ]
    },
    {
      "cell_type": "code",
      "metadata": {
        "id": "61T2z2GGyx5y",
        "colab_type": "code",
        "outputId": "d1d4bd6c-1640-4499-bcdc-481b4f72036d",
        "colab": {
          "base_uri": "https://localhost:8080/",
          "height": 286
        }
      },
      "source": [
        "class Organization():\n",
        "  def __init__(self, name, age):\n",
        "    self.name = name\n",
        "    self.age = age\n",
        "o = Organization(\"КанцТорг\", \"23 года\")\n",
        "print(\"Название организации:\",o.name)\n",
        "print(\"Стаж работы организации:\",o.age)\n",
        "print()\n",
        "class S_company(Organization):\n",
        "  def __init__(self, name, age):\n",
        "    super().__init__(name, age)\n",
        "  def service(self):\n",
        "    print(\"Наличие лицензии: Да\")\n",
        "s = S_company(\"СтраховкаТут\", \"45 лет\")\n",
        "print(\"Название организации:\",s.name)\n",
        "print(\"Стаж работы организации:\",s.age)\n",
        "s.service()\n",
        "print()\n",
        "class N_company(S_company):\n",
        "  def __init__(self, name, age):\n",
        "    S_company.__init__(self, name, age)\n",
        "  def region(self):\n",
        "    print(\"Компания проходит кризисное состояние\")  \n",
        "n = N_company(\"НефтьТат\", \"12 лет\")\n",
        "print(\"Название организации:\",n.name)\n",
        "print(\"Стаж работы организации:\",n.age)\n",
        "n.service()\n",
        "n.region()\n",
        "print()\n",
        "class Factory(S_company):\n",
        "  def __init__(self, name, age):\n",
        "    S_company.__init__(self, name, age)\n",
        "  def region(self):\n",
        "    print(\"Расположение: г.Москва\")\n",
        "l = Factory(\"Завод\", \"77 лет\")\n",
        "print(\"Название организации:\",l.name)\n",
        "print(\"Стаж работы организации:\",l.age)\n",
        "l.service()\n",
        "l.region()"
      ],
      "execution_count": 0,
      "outputs": [
        {
          "output_type": "stream",
          "text": [
            "Название организации: КанцТорг\n",
            "Стаж работы организации: 23 года\n",
            "\n",
            "Название организации: СтраховкаТут\n",
            "Стаж работы организации: 45 лет\n",
            "Наличие лицензии: Да\n",
            "\n",
            "Название организации: НефтьТат\n",
            "Стаж работы организации: 12 лет\n",
            "Наличие лицензии: Да\n",
            "Компания проходит кризисное состояние\n",
            "\n",
            "Название организации: Завод\n",
            "Стаж работы организации: 77 лет\n",
            "Наличие лицензии: Да\n",
            "Расположение: г.Москва\n"
          ],
          "name": "stdout"
        }
      ]
    }
  ]
}