{
  "nbformat": 4,
  "nbformat_minor": 0,
  "metadata": {
    "colab": {
      "name": "Copy of Elagina decorator.ipynb",
      "provenance": [],
      "authorship_tag": "ABX9TyPNq5KTJGj7goVFlJzSC/LV",
      "include_colab_link": true
    },
    "kernelspec": {
      "name": "python3",
      "display_name": "Python 3"
    }
  },
  "cells": [
    {
      "cell_type": "markdown",
      "metadata": {
        "id": "view-in-github",
        "colab_type": "text"
      },
      "source": [
        "<a href=\"https://colab.research.google.com/github/Mari-fumo/Mari_pupil/blob/master/Copy_of_Elagina_decorator.ipynb\" target=\"_parent\"><img src=\"https://colab.research.google.com/assets/colab-badge.svg\" alt=\"Open In Colab\"/></a>"
      ]
    },
    {
      "cell_type": "markdown",
      "metadata": {
        "id": "OXeSKOgAuwJB",
        "colab_type": "text"
      },
      "source": [
        "упр."
      ]
    },
    {
      "cell_type": "code",
      "metadata": {
        "id": "G87ggsi3tmp-",
        "colab_type": "code",
        "outputId": "fd899b37-f533-4367-8176-258f9a6a8654",
        "colab": {
          "base_uri": "https://localhost:8080/",
          "height": 34
        }
      },
      "source": [
        "def decorator(functions):\n",
        "  def uslovie(per):\n",
        "    p = functions(per)\n",
        "    if p == 0:\n",
        "      print(\"Нету :(\")\n",
        "    elif p > 10:\n",
        "      print(\"Очень много\")\n",
        "    else:\n",
        "      print(p)\n",
        "  return uslovie\n",
        "\n",
        "@decorator\n",
        "def primes(per):\n",
        "  c = 0\n",
        "  for i in per:\n",
        "    if i % 2 == 0:\n",
        "      c += 1\n",
        "  return c\n",
        "primes([7, 9, 3])"
      ],
      "execution_count": 0,
      "outputs": [
        {
          "output_type": "stream",
          "text": [
            "Нету :(\n"
          ],
          "name": "stdout"
        }
      ]
    },
    {
      "cell_type": "code",
      "metadata": {
        "id": "0x8Z5_9oum2M",
        "colab_type": "code",
        "outputId": "783d3ce8-19e5-4b72-fcb6-9ee27c0157f3",
        "colab": {
          "base_uri": "https://localhost:8080/",
          "height": 34
        }
      },
      "source": [
        "import math\n",
        "def decorator(functions):\n",
        "  def uslovie(self, other):\n",
        "    p = functions(self, other)\n",
        "    print(\"(\",self.x,\",\",self.y,\"+\", other.x,\",\",other.y,\") =\",\"(\",p.x,\",\",p.y,\")\")\n",
        "  return uslovie\n",
        "class Vector:\n",
        "  def __init__(self, x=0, y=0):\n",
        "    self.x = x\n",
        "    self.y = y\n",
        "  @decorator\n",
        "  def __add__(self, other):\n",
        "    return Vector(self.x + other.x, self.y + other.y)\n",
        "D = Vector(5, 7)\n",
        "S = Vector(3, 8)\n",
        "p = D + S"
      ],
      "execution_count": 0,
      "outputs": [
        {
          "output_type": "stream",
          "text": [
            "( 5 , 7 + 3 , 8 ) = ( 8 , 15 )\n"
          ],
          "name": "stdout"
        }
      ]
    },
    {
      "cell_type": "markdown",
      "metadata": {
        "id": "BdbODkdxvPUM",
        "colab_type": "text"
      },
      "source": [
        "примеры"
      ]
    },
    {
      "cell_type": "code",
      "metadata": {
        "id": "egiPKFQBvRef",
        "colab_type": "code",
        "outputId": "3953a5d9-1544-4c3c-a14c-9d7deae5fc4a",
        "colab": {
          "base_uri": "https://localhost:8080/",
          "height": 246
        }
      },
      "source": [
        "class TestClass:\n",
        "  def __init__(self):\n",
        "    self.public_variable = \"I'm public!\"\n",
        "    self.__private_variable = \"I'm too shy to be public!\"\n",
        "  def get_public_variable(self):\n",
        "    return self.public_variable\n",
        "  def get_private_variable(self):\n",
        "    return self.__private_variable\n",
        "if __name__ == \"__main__\":\n",
        "  test_class = TestClass()\n",
        "  print(\" \".join([\"Public variable:\", test_class.get_public_variable()]))\n",
        "  print(\" \".join([\"Public variable:\", test_class.public_variable]))\n",
        "  print(\" \".join([\"Private variable:\", test_class.get_private_variable()]))\n",
        "  print(\" \".join([\"Private variable:\", test_class._private_variable]))"
      ],
      "execution_count": 0,
      "outputs": [
        {
          "output_type": "stream",
          "text": [
            "Public variable: I'm public!\n",
            "Public variable: I'm public!\n",
            "Private variable: I'm too shy to be public!\n"
          ],
          "name": "stdout"
        },
        {
          "output_type": "error",
          "ename": "AttributeError",
          "evalue": "ignored",
          "traceback": [
            "\u001b[0;31m---------------------------------------------------------------------------\u001b[0m",
            "\u001b[0;31mAttributeError\u001b[0m                            Traceback (most recent call last)",
            "\u001b[0;32m<ipython-input-4-3a5471d5456a>\u001b[0m in \u001b[0;36m<module>\u001b[0;34m()\u001b[0m\n\u001b[1;32m     12\u001b[0m   \u001b[0mprint\u001b[0m\u001b[0;34m(\u001b[0m\u001b[0;34m\" \"\u001b[0m\u001b[0;34m.\u001b[0m\u001b[0mjoin\u001b[0m\u001b[0;34m(\u001b[0m\u001b[0;34m[\u001b[0m\u001b[0;34m\"Public variable:\"\u001b[0m\u001b[0;34m,\u001b[0m \u001b[0mtest_class\u001b[0m\u001b[0;34m.\u001b[0m\u001b[0mpublic_variable\u001b[0m\u001b[0;34m]\u001b[0m\u001b[0;34m)\u001b[0m\u001b[0;34m)\u001b[0m\u001b[0;34m\u001b[0m\u001b[0;34m\u001b[0m\u001b[0m\n\u001b[1;32m     13\u001b[0m   \u001b[0mprint\u001b[0m\u001b[0;34m(\u001b[0m\u001b[0;34m\" \"\u001b[0m\u001b[0;34m.\u001b[0m\u001b[0mjoin\u001b[0m\u001b[0;34m(\u001b[0m\u001b[0;34m[\u001b[0m\u001b[0;34m\"Private variable:\"\u001b[0m\u001b[0;34m,\u001b[0m \u001b[0mtest_class\u001b[0m\u001b[0;34m.\u001b[0m\u001b[0mget_private_variable\u001b[0m\u001b[0;34m(\u001b[0m\u001b[0;34m)\u001b[0m\u001b[0;34m]\u001b[0m\u001b[0;34m)\u001b[0m\u001b[0;34m)\u001b[0m\u001b[0;34m\u001b[0m\u001b[0;34m\u001b[0m\u001b[0m\n\u001b[0;32m---> 14\u001b[0;31m   \u001b[0mprint\u001b[0m\u001b[0;34m(\u001b[0m\u001b[0;34m\" \"\u001b[0m\u001b[0;34m.\u001b[0m\u001b[0mjoin\u001b[0m\u001b[0;34m(\u001b[0m\u001b[0;34m[\u001b[0m\u001b[0;34m\"Private variable:\"\u001b[0m\u001b[0;34m,\u001b[0m \u001b[0mtest_class\u001b[0m\u001b[0;34m.\u001b[0m\u001b[0m_private_variable\u001b[0m\u001b[0;34m]\u001b[0m\u001b[0;34m)\u001b[0m\u001b[0;34m)\u001b[0m\u001b[0;34m\u001b[0m\u001b[0;34m\u001b[0m\u001b[0m\n\u001b[0m",
            "\u001b[0;31mAttributeError\u001b[0m: 'TestClass' object has no attribute '_private_variable'"
          ]
        }
      ]
    },
    {
      "cell_type": "code",
      "metadata": {
        "id": "-2PIcCiqvmOv",
        "colab_type": "code",
        "outputId": "7d67166a-9654-4ac8-def8-cb53d470c698",
        "colab": {
          "base_uri": "https://localhost:8080/",
          "height": 50
        }
      },
      "source": [
        "class UniversityMember:\n",
        "  passToUniversity = ''\n",
        "  status = True\n",
        "  def checkStatus(self):\n",
        "    return self.status\n",
        "  def dismiss(self):\n",
        "    self.status = False\n",
        "    self.pass_to_university = None\n",
        "class Student(UniversityMember):\n",
        "    group = None\n",
        "class Teacher(UniversityMember):\n",
        "    cathedral = None\n",
        "class Administrator(UniversityMember):\n",
        "    pass\n",
        "p = Administrator()\n",
        "print(p.checkStatus())\n",
        "print(p.dismiss())"
      ],
      "execution_count": 0,
      "outputs": [
        {
          "output_type": "stream",
          "text": [
            "True\n",
            "None\n"
          ],
          "name": "stdout"
        }
      ]
    },
    {
      "cell_type": "code",
      "metadata": {
        "id": "Ty_WKqUIv1Ld",
        "colab_type": "code",
        "outputId": "ece250fb-04b0-4886-ec8f-4a4dbda38736",
        "colab": {
          "base_uri": "https://localhost:8080/",
          "height": 67
        }
      },
      "source": [
        "import datetime\n",
        "class Person:\n",
        "  def __init__(self, name, age):\n",
        "    self.name = name\n",
        "    self.age = age\n",
        "# classmethod чтобы создать объект по году рождения,\n",
        "# \"альтернативный\" конструктор\n",
        "  @classmethod\n",
        "  def fromBirthYear(cls, name, year):\n",
        "    return cls(name, datetime.date.today().year - year)\n",
        "# статический метод,чтобы проверить совершеннолетие\n",
        "  @staticmethod\n",
        "  def isAdult(age):\n",
        "    return age > 18\n",
        "person1 = Person('Петя', 21)\n",
        "person2 = Person.fromBirthYear('Петя', 1996)\n",
        "print(person1.age)\n",
        "print(person2.age)\n",
        "# print the result\n",
        "print(Person.isAdult(22))"
      ],
      "execution_count": 0,
      "outputs": [
        {
          "output_type": "stream",
          "text": [
            "21\n",
            "24\n",
            "True\n"
          ],
          "name": "stdout"
        }
      ]
    }
  ]
}